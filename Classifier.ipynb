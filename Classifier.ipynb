{
 "cells": [
  {
   "cell_type": "code",
   "execution_count": 33,
   "id": "2bb4e8ee",
   "metadata": {},
   "outputs": [],
   "source": [
    "import pandas as pd\n",
    "import numpy as np\n",
    "from tqdm import tqdm\n",
    "import copy\n",
    "from sklearn.preprocessing import MinMaxScaler\n",
    "from typing import Union, Dict, Any, Tuple, List\n",
    "import matplotlib.pyplot as plt\n",
    "from sklearn.metrics import ConfusionMatrixDisplay\n",
    "from sklearn.metrics import confusion_matrix, classification_report"
   ]
  },
  {
   "cell_type": "markdown",
   "id": "e8848e10",
   "metadata": {},
   "source": [
    "The dataset is downloaded from Kaggle. [Here](https://www.kaggle.com/datasets/nancyalaswad90/breast-cancer-dataset/data) you can find where I downloaded the dataset."
   ]
  },
  {
   "cell_type": "code",
   "execution_count": 34,
   "id": "16c6955e",
   "metadata": {},
   "outputs": [],
   "source": [
    "data = pd.read_csv(\"data/brest_cancer_data.csv\")"
   ]
  },
  {
   "cell_type": "code",
   "execution_count": 35,
   "id": "e0c89c62",
   "metadata": {},
   "outputs": [
    {
     "data": {
      "text/plain": [
       "(569, 33)"
      ]
     },
     "execution_count": 35,
     "metadata": {},
     "output_type": "execute_result"
    }
   ],
   "source": [
    "data.shape"
   ]
  },
  {
   "cell_type": "code",
   "execution_count": 36,
   "id": "fbe49165",
   "metadata": {},
   "outputs": [
    {
     "data": {
      "text/plain": [
       "Index(['id', 'diagnosis', 'radius_mean', 'texture_mean', 'perimeter_mean',\n",
       "       'area_mean', 'smoothness_mean', 'compactness_mean', 'concavity_mean',\n",
       "       'concave points_mean', 'symmetry_mean', 'fractal_dimension_mean',\n",
       "       'radius_se', 'texture_se', 'perimeter_se', 'area_se', 'smoothness_se',\n",
       "       'compactness_se', 'concavity_se', 'concave points_se', 'symmetry_se',\n",
       "       'fractal_dimension_se', 'radius_worst', 'texture_worst',\n",
       "       'perimeter_worst', 'area_worst', 'smoothness_worst',\n",
       "       'compactness_worst', 'concavity_worst', 'concave points_worst',\n",
       "       'symmetry_worst', 'fractal_dimension_worst', 'Unnamed: 32'],\n",
       "      dtype='object')"
      ]
     },
     "execution_count": 36,
     "metadata": {},
     "output_type": "execute_result"
    }
   ],
   "source": [
    "data.columns"
   ]
  },
  {
   "cell_type": "markdown",
   "id": "b34d6aaf",
   "metadata": {},
   "source": [
    "As we can see the dataset has 569 tumor samples and 32 columns. We are going to use the 'diagnosis' column as the label, and other columns such as 'radius_mean','texture_mean',etc as the features to make the classification. Our goal is classify the given tumors into malignant (cancerous) or benign(non-cancerous). "
   ]
  },
  {
   "cell_type": "markdown",
   "id": "0a7307cc",
   "metadata": {},
   "source": [
    "Lets create labels from diagnosis column of our dataset. We are going to use 0 for the 'benign' class and 1 for the 'malignant' class. "
   ]
  },
  {
   "cell_type": "code",
   "execution_count": 37,
   "id": "9ce5b161",
   "metadata": {},
   "outputs": [
    {
     "name": "stdout",
     "output_type": "stream",
     "text": [
      "569\n"
     ]
    }
   ],
   "source": [
    "labels = [0 if x == \"B\" else 1 for x in data.diagnosis]\n",
    "print(len(labels))"
   ]
  },
  {
   "cell_type": "markdown",
   "id": "77fbe921",
   "metadata": {},
   "source": [
    "Now lets drop the columns which we are not going to use as features. We are going to drop 'id' because it hasn't relevant information to decide if a tumor is malignant or bening. Also we are going to drop diagnosis column because it is not a feature it is something that we want to predict."
   ]
  },
  {
   "cell_type": "code",
   "execution_count": 38,
   "id": "07b83f85",
   "metadata": {},
   "outputs": [],
   "source": [
    "data.drop([\"id\", \"diagnosis\", \"Unnamed: 32\"], axis=1, inplace=True)"
   ]
  },
  {
   "cell_type": "markdown",
   "id": "fe4e3cdf",
   "metadata": {},
   "source": [
    "# Scaling the inputs\n",
    "Having features at the same scale helps the model produce more stable and reliable results. Features at different scales can cause the model to overweight some features, which can degrade the overall performance. Proper scaling can improve model performance, reduce training time, and help you achieve better results overall. Because with features in different ranges, our cost function has a more extended elliptical structure and a more oscillatory path can be followed to reach its minimum value, but with normalized features, cost has a more symmetric structure and the minimum point can be reached more directly.\n",
    "<img src=\"image_files/scaled_vs_unscaled_inputs.png\" style=\"width:390px;height:240px;\">\n",
    "Original image was taken from [Improving Deep Neural Networks: Hyperparameter Tuning, Regularization and Optimization](https://www.coursera.org/learn/deep-neural-network) course of Andrew NG. I modified the image little bit. \n",
    "To make our learning algorithm work more effectively let's scale our data. We are going to use 'MinMaxScaler' from sklearn.preprocessing library. MinMaxScaler scales the data in the range of [0,1], it only changes the scale of the data, preserving its original distribution. This allows us to scale without disturbing the structure and distribution of the data. [Here](https://scikit-learn.org/stable/modules/generated/sklearn.preprocessing.MinMaxScaler.html) you can find the original documentation of the MinMaxScaler if you are curious about it's details."
   ]
  },
  {
   "cell_type": "code",
   "execution_count": 56,
   "id": "fab62fea",
   "metadata": {},
   "outputs": [],
   "source": [
    "scaler = MinMaxScaler()\n",
    "scaler.fit(data)\n",
    "data = scaler.transform(data)"
   ]
  },
  {
   "cell_type": "markdown",
   "id": "ec381d22",
   "metadata": {},
   "source": [
    "Let's split our data into the training data and the test data as the first step. We are going to use 80% of the data for training, and rest of it for the testing."
   ]
  },
  {
   "cell_type": "code",
   "execution_count": 57,
   "id": "3cd5bf53",
   "metadata": {},
   "outputs": [
    {
     "name": "stdout",
     "output_type": "stream",
     "text": [
      "Shape of the training data:  (30, 455)\n",
      "Shape of the test data:  (30, 114)\n",
      "Shape of the training labels:  (455,)\n",
      "Shape of the test labels:  (114,)\n"
     ]
    }
   ],
   "source": [
    "train_data_size = int(data.shape[0] * 0.8)\n",
    "training_data = data[:train_data_size]\n",
    "X_train = training_data.T\n",
    "test_data = data[train_data_size:]\n",
    "X_test = test_data.T\n",
    "Y_train = np.array(labels[:train_data_size])\n",
    "Y_test = np.array(labels[train_data_size:])\n",
    "print(\"Shape of the training data: \", X_train.shape)\n",
    "print(\"Shape of the test data: \", X_test.shape)\n",
    "print(\"Shape of the training labels: \", Y_train.shape)\n",
    "print(\"Shape of the test labels: \", Y_test.shape)"
   ]
  },
  {
   "cell_type": "markdown",
   "id": "82a12272",
   "metadata": {},
   "source": [
    "Now we have a training dataset which is an array of 30 rows and 455 columns, and test dataset which is an array of 30 rows and 114 columns. Each row represent a feature and each column represent a tumor sample from our dataset."
   ]
  },
  {
   "cell_type": "markdown",
   "id": "5adaa235",
   "metadata": {},
   "source": [
    "Our data is ready for training and test purposes.\n",
    "Now let's crate some helper functions."
   ]
  },
  {
   "cell_type": "markdown",
   "id": "bf475044",
   "metadata": {},
   "source": [
    " # Architecture of our learning algorithm\n",
    "Let's design our simple learning algorithm to classify tumors as 'malignant' or 'benign'.\n",
    "<img src=\"image_files/architecture.png\" style=\"width:718px;height:300px;\">\n",
    "\n",
    "## Notations\n",
    "* $ ^{(i)}$: Denotes i'th sample from our dataset. For example $ x^{(3)}$ denotes 3rd sample from our dataset.\n",
    "* $m$: Denotes total number of samples we have in our dataset.\n",
    "* $_{i}$: Denotes i'th feature of the sample, or i'th parameter of the parameters. For example: $X^{(5)}_{3}$ denotes 3rd feature of 5th sample from our dataset. $w_{3}$ denotes 3rd parameter of parameters.\n",
    "* $L$: Loss .\n",
    "* $J$: Cost. \n",
    "* $\\alpha$: Learning rate.\n",
    "\n",
    "## Mathematical expressions\n",
    "* $z^{(i)} = w^T x^{(i)} + b$\n",
    "* $a^{(i)} = sigmoid(z^{(i)})$\n",
    "* $\\mathcal{L}(a^{(i)}, y^{(i)}) =  - y^{(i)}  \\log(a^{(i)}) - (1-y^{(i)} )  \\log(1-a^{(i)})$\n",
    "* $ J = \\frac{1}{m} \\sum_{i=1}^m \\mathcal{L}(a^{(i)}, y^{(i)})$\n",
    "\n",
    "Cost is calculated by averaging the losses of each sample.\n",
    "\n",
    "## Steps of our learning algorithm.\n",
    "  1) Initialize parameters.\n",
    "  \n",
    "  2) Forward propagation.\n",
    "   * Compute $z^{(i)}$ and $a^{(i)}$ by using inputs and parameters.\n",
    "  \n",
    "  \n",
    "  3) Compute Cost\n",
    "    \n",
    "    \n",
    "  4) Backward propagation\n",
    "   * Compute gradients by using the cost. \n",
    "    * $d_{w} = \\frac{\\partial J}{\\partial w} = \\frac{1}{m}X(A-Y)^T$\n",
    "    * $d_{b} = \\frac{\\partial J}{\\partial b} = \\frac{1}{m} \\sum_{i=1}^m (a^{(i)}-y^{(i)})$\n",
    "   * Update parameters by using the gradients.\n",
    "    * $ w = w - \\alpha * d_{w}$\n",
    "    * $ b = b - \\alpha * d_{b}$\n",
    "  \n",
    "  5) Make predictions on test data by using learned parameters."
   ]
  },
  {
   "cell_type": "markdown",
   "id": "a66097e5",
   "metadata": {},
   "source": [
    "# Initialization of parameters\n",
    "Since we single neuron for our logistic regression problem, we can initialize our parameters with zeroes because it can not cause any symetry problem which we don't want to have."
   ]
  },
  {
   "cell_type": "code",
   "execution_count": 58,
   "id": "7bd505f1",
   "metadata": {},
   "outputs": [],
   "source": [
    "def initialize_parameters(dim: int) -> Tuple[np.array, float]:\n",
    "    \"\"\"\n",
    "    This function is initialize parameters 'w' and 'b'.\n",
    "    Args:\n",
    "    dim(int) -- dimension of the vector which we want to create.(number of the parameters)\n",
    "\n",
    "    Returns:\n",
    "    (Tuple[np.array,float]): w and b. W is a vector of zeroes with shape (dim, 1) and\n",
    "                             b is a scalar(bias).\n",
    "    \"\"\"\n",
    "    w = np.zeros((dim, 1))\n",
    "    b = 0.0\n",
    "    return w, b"
   ]
  },
  {
   "cell_type": "code",
   "execution_count": 59,
   "id": "53c393fa",
   "metadata": {},
   "outputs": [
    {
     "name": "stdout",
     "output_type": "stream",
     "text": [
      "Shape of w =  (3, 1)\n",
      "w =  [[0.]\n",
      " [0.]\n",
      " [0.]]\n",
      "b =  0.0\n"
     ]
    }
   ],
   "source": [
    "w, b = initialize_parameters(3)\n",
    "print(\"Shape of w = \", w.shape)\n",
    "print(\"w = \", w)\n",
    "print(\"b = \", b)"
   ]
  },
  {
   "cell_type": "markdown",
   "id": "c77c5481",
   "metadata": {},
   "source": [
    "# Activation Function\n",
    "As we mentioned before, we will try to classify each tumor as 'benign' or 'malignant' with given its features.\n",
    "Since we have 2 classes in our classification problem, we can use the sigmoid function as the activation function.\n",
    "<img src=\"image_files/sigmoid_function.png\" style=\"width:325px;height:200px;\">\n"
   ]
  },
  {
   "cell_type": "code",
   "execution_count": 60,
   "id": "069d4751",
   "metadata": {},
   "outputs": [],
   "source": [
    "def compute_sigmoid(z: Union[int, float, np.array]) -> Union[float, np.array]:\n",
    "    \"\"\"\n",
    "    This function computes the sigmoid of given input.\n",
    "\n",
    "    Args:\n",
    "        z(Union[int,float,np.array]): A scalar value or a numpy array.\n",
    "    Return:\n",
    "        (Union[float,np.array]):  computed sigmoid of the given input.\n",
    "                                  Float if the input is a scalar valye,\n",
    "                                  np.array if the given input is an array.\n",
    "    \"\"\"\n",
    "    # sigmoid(z) = 1/(1+(e)^-z)\n",
    "    return 1 / (1 + np.exp(-z))"
   ]
  },
  {
   "cell_type": "code",
   "execution_count": 61,
   "id": "79afb217",
   "metadata": {},
   "outputs": [
    {
     "name": "stdout",
     "output_type": "stream",
     "text": [
      "Sigmoid of 0 is:  0.5\n",
      "Sigmoid of 7.5 is:  0.9994472213630764\n",
      "Sigmoid of [-3  0  2] is:  [0.04742587 0.5        0.88079708]\n"
     ]
    }
   ],
   "source": [
    "input_1 = 0\n",
    "input_2 = 7.5\n",
    "input_3 = np.array([-3, 0, 2])\n",
    "print(f\"Sigmoid of {input_1} is: \", compute_sigmoid(input_1))\n",
    "print(f\"Sigmoid of {input_2} is: \", compute_sigmoid(input_2))\n",
    "print(f\"Sigmoid of {input_3} is: \", compute_sigmoid(input_3))"
   ]
  },
  {
   "cell_type": "code",
   "execution_count": 62,
   "id": "285e3ef3",
   "metadata": {},
   "outputs": [],
   "source": [
    "def forward_propagation(weights: np.array, bias: float, X: np.array) -> np.array:\n",
    "    \"\"\"\n",
    "    This function created to propagate forword in our learning algorithm.\n",
    "    Takes transpose of the weights, dot product it with X, and add bias to compute Z. After that uses\n",
    "    sigmoid function as the activation function to compute A.\n",
    "        Z = np.dot(weights.T,X)+bias\n",
    "        A = sigmoid(Z)\n",
    "    Args:\n",
    "        weights(np.array): Array with shape of (features,1) which will be used to compute Z.\n",
    "        bias(float): A scalar value as bias.\n",
    "        X(np.array): Array which contain tumor samples from our dataset Shape=(features,samples).\n",
    "    Return:\n",
    "        (np.array):  Sigmoid of Z Shape =(1,features).\n",
    "    \"\"\"\n",
    "    Z = np.dot(weights.T, X) + bias\n",
    "    A = compute_sigmoid(Z.astype(float))\n",
    "    return A"
   ]
  },
  {
   "cell_type": "code",
   "execution_count": 46,
   "id": "2713e9d7",
   "metadata": {},
   "outputs": [],
   "source": [
    "def compute_cost(A: np.array, Y: np.array) -> float:\n",
    "    \"\"\"\n",
    "    This function created to compute cost from given inputs(predictions and grand truth labels).\n",
    "\n",
    "    Args:\n",
    "        A(np.array): Predicted values(0<a<1) which we get from forward propagation.\n",
    "        Y(np.array): Grand truth classes. 0 for bening tumors 1 for malignant tumors.\n",
    "\n",
    "    Return:\n",
    "        (float):  computed cost.\n",
    "    \"\"\"\n",
    "    m = A.shape[1]\n",
    "    loses = -np.dot(Y, np.log(A).T) - np.dot(1 - Y, np.log(1 - A).T)\n",
    "    cost = np.sum(loses) / m\n",
    "    return cost"
   ]
  },
  {
   "cell_type": "code",
   "execution_count": 47,
   "id": "f4e981f1",
   "metadata": {},
   "outputs": [],
   "source": [
    "def backward_propagation(\n",
    "    A: np.array,\n",
    "    X: np.array,\n",
    "    Y: np.array,\n",
    "    weights: np.array,\n",
    "    bias: float,\n",
    "    learning_rate: float,\n",
    ") -> Tuple[np.array, float]:\n",
    "    \"\"\"\n",
    "    This function created to compute gradients and update parameters(weights and bias) based of computed\n",
    "    gradients.\n",
    "\n",
    "    Args:\n",
    "        A(np.array): Predicted values(0<a<1) which we get from forward propagation. Shape=(1,num_samples)\n",
    "        Y(np.array): Grand truth classes. 0 for bening tumors 1 for malignant tumors.\n",
    "        X(np.array): dataset with shape of (num_features,num_samples).\n",
    "        weights(np.array): Array with shape of (num_features,1)\n",
    "    Return:\n",
    "        (float):  computed cost.\n",
    "    \"\"\"\n",
    "    w = copy.deepcopy(weights)\n",
    "    b = copy.deepcopy(bias)\n",
    "    m = X.shape[1]\n",
    "    dw = np.dot(X, (A - Y).T) / m\n",
    "    db = np.sum(A - Y) / m\n",
    "    # Update weights\n",
    "    weights = w - learning_rate * dw\n",
    "    bias = b - learning_rate * db\n",
    "    return weights, bias"
   ]
  },
  {
   "cell_type": "code",
   "execution_count": 48,
   "id": "e8f9fa2d",
   "metadata": {},
   "outputs": [],
   "source": [
    "def train(\n",
    "    X_train: np.array,\n",
    "    Y_train: np.array,\n",
    "    X_test: np.array,\n",
    "    Y_test: np.array,\n",
    "    num_iterations: int,\n",
    "    print_cost: bool,\n",
    "    learning_rate: float,\n",
    ") -> Tuple[Dict, List, List]:\n",
    "    \"\"\"\n",
    "    This function created to train our logistic regresion model. It has 3 main steps. At the first step it\n",
    "    initialize the weights. After that in each iteration it computes A and cost with forward_propagation and\n",
    "    updates the weights based on the computed cost.\n",
    "\n",
    "    Args:\n",
    "        X_train(np.array): Training dataset. Shape=(num_features,num_samples)\n",
    "        Y_train(np.array): Grand truth labels of training dataset. 0 for bening tumors 1 for malignant tumors.\n",
    "        X_test(np.array): Test dataset. Shape=(num_features,num_samples)\n",
    "        Y_test(np.array): Grand truth labels of test dataset. 0 for bening tumors 1 for malignant tumors.\n",
    "        num_iterations(int): number of the iterations for optimizing the weights.\n",
    "        print_cost(bool): Specifies whether to print the cost during the training or not.\n",
    "        learning_rate(float): Learning rate to update the weights.\n",
    "                              Determines the size of the update we will make.\n",
    "    Return:\n",
    "        (Tuple[Dict,List,List]):  Optimized parameters, training costs of each iteration and test cost of each iteration.\n",
    "    \"\"\"\n",
    "    feature_size = X_train.shape[0]\n",
    "    weights, bias = initialize_parameters(feature_size)\n",
    "    training_costs = []\n",
    "    test_costs = []\n",
    "    parameters = {}\n",
    "    for i in range(num_iterations + 1):\n",
    "        # Lets propagate forward to compute A and Cost.\n",
    "        A = forward_propagation(weights, bias, X_train)\n",
    "        training_cost = compute_cost(A, Y_train)\n",
    "        # Lets propagate backward to update the weights and bias\n",
    "        weights, bias = backward_propagation(\n",
    "            A, X_train, Y_train, weights, bias, learning_rate\n",
    "        )\n",
    "        training_costs.append(training_cost)\n",
    "        # Here we only calculate the test_cost for only analysis purposes.\n",
    "        # Note that we don't update weights and biases with computed A_test.\n",
    "        A_test = forward_propagation(weights, bias, X_test)\n",
    "        test_cost = compute_cost(A_test, Y_test)\n",
    "        test_costs.append(test_cost)\n",
    "        # Print the cost every 1000 iterations\n",
    "        if print_cost and i % 1000 == 0:\n",
    "            print(\n",
    "                \"Costs after iteration %i: Training_cost: %f, Test_cost: %f \"\n",
    "                % (i, training_cost, test_cost)\n",
    "            )\n",
    "    parameters[\"weights\"] = weights\n",
    "    parameters[\"bias\"] = bias\n",
    "    return parameters, training_costs, test_costs"
   ]
  },
  {
   "cell_type": "code",
   "execution_count": 49,
   "id": "7b221b9e",
   "metadata": {},
   "outputs": [
    {
     "name": "stdout",
     "output_type": "stream",
     "text": [
      "Costs after iteration 0: Training_cost: 0.693147, Test_cost: 0.681197 \n",
      "Costs after iteration 1000: Training_cost: 0.120264, Test_cost: 0.143291 \n",
      "Costs after iteration 2000: Training_cost: 0.096136, Test_cost: 0.123854 \n",
      "Costs after iteration 3000: Training_cost: 0.085558, Test_cost: 0.115157 \n",
      "Costs after iteration 4000: Training_cost: 0.079337, Test_cost: 0.109795 \n",
      "Costs after iteration 5000: Training_cost: 0.075121, Test_cost: 0.105976 \n",
      "Costs after iteration 6000: Training_cost: 0.072014, Test_cost: 0.103030 \n",
      "Costs after iteration 7000: Training_cost: 0.069596, Test_cost: 0.100643 \n",
      "Costs after iteration 8000: Training_cost: 0.067639, Test_cost: 0.098644 \n",
      "Costs after iteration 9000: Training_cost: 0.066013, Test_cost: 0.096930 \n",
      "Costs after iteration 10000: Training_cost: 0.064630, Test_cost: 0.095437 \n"
     ]
    }
   ],
   "source": [
    "learning_rate = 0.5\n",
    "print_cost = True\n",
    "num_iterations = 10000\n",
    "parameters, training_costs, test_costs = train(\n",
    "    X_train, Y_train, X_test, Y_test, num_iterations, print_cost, learning_rate\n",
    ")"
   ]
  },
  {
   "cell_type": "code",
   "execution_count": 50,
   "id": "b263627b",
   "metadata": {},
   "outputs": [
    {
     "data": {
      "image/png": "[encoded data removed]",
      "text/plain": [
       "<Figure size 432x288 with 1 Axes>"
      ]
     },
     "metadata": {
      "needs_background": "light"
     },
     "output_type": "display_data"
    }
   ],
   "source": [
    "# Plot learning curve (with costs)\n",
    "plt.plot(training_costs, label=\"training cost\")\n",
    "plt.plot(test_costs, label=\"test cost\")\n",
    "plt.legend()\n",
    "plt.ylabel(\"cost\")\n",
    "plt.xlabel(\"iterations\")\n",
    "plt.title(\"Learning rate = \" + str(learning_rate))\n",
    "plt.show()"
   ]
  },
  {
   "cell_type": "code",
   "execution_count": 51,
   "id": "a5f0cde8",
   "metadata": {},
   "outputs": [],
   "source": [
    "def predict(parameters: Dict, X: np.array) -> np.array:\n",
    "    \"\"\"\n",
    "    This function created to predict class of each sample  by using given parameters.\n",
    "\n",
    "    Args:\n",
    "    parameters: python dictionary containing weights and bias.\n",
    "    X -- input data. Shape = (num_features, num_samples)\n",
    "\n",
    "    Returns\n",
    "    (np.array) -- Array of predictions of our model. 0s for benings and 1s for malignants.\n",
    "    \"\"\"\n",
    "    weights = parameters[\"weights\"]\n",
    "    bias = parameters[\"bias\"]\n",
    "    A = forward_propagation(weights, bias, X)\n",
    "    predictions = np.where(A >= 0.5, 1, 0)\n",
    "    return predictions"
   ]
  },
  {
   "cell_type": "markdown",
   "id": "ab1f35cd",
   "metadata": {},
   "source": [
    "# Results"
   ]
  },
  {
   "cell_type": "code",
   "execution_count": 52,
   "id": "e7c09318",
   "metadata": {},
   "outputs": [
    {
     "name": "stdout",
     "output_type": "stream",
     "text": [
      "test accuracy: 98.24561403508773 %\n"
     ]
    }
   ],
   "source": [
    "Y_prediction_test = predict(parameters, X_test)\n",
    "print(\n",
    "    \"test accuracy: {} %\".format(\n",
    "        100 - np.mean(np.abs(Y_prediction_test - Y_test)) * 100\n",
    "    )\n",
    ")"
   ]
  },
  {
   "cell_type": "code",
   "execution_count": 53,
   "id": "c0885040",
   "metadata": {},
   "outputs": [
    {
     "name": "stdout",
     "output_type": "stream",
     "text": [
      "True Positive: 26\n",
      "True Negative: 86\n",
      "False Positive: 2\n",
      "False Negative: 0\n"
     ]
    }
   ],
   "source": [
    "conf_matrix = confusion_matrix(Y_test, Y_prediction_test.reshape(-1))\n",
    "TN, FP, FN, TP = conf_matrix.ravel()\n",
    "print(f\"True Positive: {TP}\")\n",
    "print(f\"True Negative: {TN}\")\n",
    "print(f\"False Positive: {FP}\")\n",
    "print(f\"False Negative: {FN}\")"
   ]
  },
  {
   "cell_type": "code",
   "execution_count": 54,
   "id": "84a1a637",
   "metadata": {},
   "outputs": [
    {
     "data": {
      "image/png": "[encoded data removed]",
      "text/plain": [
       "<Figure size 432x288 with 2 Axes>"
      ]
     },
     "metadata": {
      "needs_background": "light"
     },
     "output_type": "display_data"
    }
   ],
   "source": [
    "disp = ConfusionMatrixDisplay(conf_matrix)\n",
    "disp.plot()\n",
    "plt.show()"
   ]
  },
  {
   "cell_type": "code",
   "execution_count": 55,
   "id": "a39ace56",
   "metadata": {},
   "outputs": [
    {
     "name": "stdout",
     "output_type": "stream",
     "text": [
      "Classification Report:\n",
      "              precision    recall  f1-score   support\n",
      "\n",
      "           0       1.00      0.98      0.99        88\n",
      "           1       0.93      1.00      0.96        26\n",
      "\n",
      "    accuracy                           0.98       114\n",
      "   macro avg       0.96      0.99      0.98       114\n",
      "weighted avg       0.98      0.98      0.98       114\n",
      "\n"
     ]
    }
   ],
   "source": [
    "classification_rep = classification_report(Y_test, Y_prediction_test.reshape(-1))\n",
    "print(\"Classification Report:\")\n",
    "print(classification_rep)"
   ]
  },
  {
   "cell_type": "markdown",
   "id": "bf597b43",
   "metadata": {},
   "source": [
    "# Conclusion\n",
    "In this example, we saw how to build a single-neuron learning algorithm for logistic regression problems from start to end. The dataset we chose was not difficult to classify and our model was able to learn it very well. If we look at the results, it is very important that the false_negative value is 0 because telling a cancer patient that they do not have cancer can be fatal.  On the other hand, our classifier diagnosed 2 patients who did not have cancer with cancer. This is an undesirable result. However, if we look at the total accuracy values, this algorithm, which we worked with a single neuron and limited data, was quite successful. You can test this algorithm for your other logistic regression problems."
   ]
  },
  {
   "cell_type": "code",
   "execution_count": null,
   "id": "558ecddc",
   "metadata": {},
   "outputs": [],
   "source": []
  },
  {
   "cell_type": "code",
   "execution_count": null,
   "id": "e9333cbc",
   "metadata": {},
   "outputs": [],
   "source": []
  }
 ],
 "metadata": {
  "kernelspec": {
   "display_name": "pythenv",
   "language": "python",
   "name": "pythenv"
  },
  "language_info": {
   "codemirror_mode": {
    "name": "ipython",
    "version": 3
   },
   "file_extension": ".py",
   "mimetype": "text/x-python",
   "name": "python",
   "nbconvert_exporter": "python",
   "pygments_lexer": "ipython3",
   "version": "3.10.1"
  }
 },
 "nbformat": 4,
 "nbformat_minor": 5
}
